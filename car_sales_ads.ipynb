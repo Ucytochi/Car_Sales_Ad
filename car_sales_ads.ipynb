{
 "cells": [
  {
   "cell_type": "markdown",
   "metadata": {},
   "source": [
    "### Step 1. Open the data file and study the general information. "
   ]
  },
  {
   "cell_type": "code",
   "execution_count": 1,
   "metadata": {},
   "outputs": [],
   "source": [
    "# Import libraries\n",
    "import pandas as pd\n",
    "import matplotlib.pyplot as plt\n",
    "import seaborn as sns\n",
    "import warnings\n",
    "import numpy as np"
   ]
  },
  {
   "cell_type": "code",
   "execution_count": 2,
   "metadata": {},
   "outputs": [
    {
     "data": {
      "text/html": [
       "<div>\n",
       "<style scoped>\n",
       "    .dataframe tbody tr th:only-of-type {\n",
       "        vertical-align: middle;\n",
       "    }\n",
       "\n",
       "    .dataframe tbody tr th {\n",
       "        vertical-align: top;\n",
       "    }\n",
       "\n",
       "    .dataframe thead th {\n",
       "        text-align: right;\n",
       "    }\n",
       "</style>\n",
       "<table border=\"1\" class=\"dataframe\">\n",
       "  <thead>\n",
       "    <tr style=\"text-align: right;\">\n",
       "      <th></th>\n",
       "      <th>price</th>\n",
       "      <th>model_year</th>\n",
       "      <th>model</th>\n",
       "      <th>condition</th>\n",
       "      <th>cylinders</th>\n",
       "      <th>fuel</th>\n",
       "      <th>odometer</th>\n",
       "      <th>transmission</th>\n",
       "      <th>type</th>\n",
       "      <th>paint_color</th>\n",
       "      <th>is_4wd</th>\n",
       "      <th>date_posted</th>\n",
       "      <th>days_listed</th>\n",
       "    </tr>\n",
       "  </thead>\n",
       "  <tbody>\n",
       "    <tr>\n",
       "      <th>0</th>\n",
       "      <td>9400</td>\n",
       "      <td>2011.0</td>\n",
       "      <td>bmw x5</td>\n",
       "      <td>good</td>\n",
       "      <td>6.0</td>\n",
       "      <td>gas</td>\n",
       "      <td>145000.0</td>\n",
       "      <td>automatic</td>\n",
       "      <td>SUV</td>\n",
       "      <td>NaN</td>\n",
       "      <td>1.0</td>\n",
       "      <td>2018-06-23</td>\n",
       "      <td>19</td>\n",
       "    </tr>\n",
       "    <tr>\n",
       "      <th>1</th>\n",
       "      <td>25500</td>\n",
       "      <td>NaN</td>\n",
       "      <td>ford f-150</td>\n",
       "      <td>good</td>\n",
       "      <td>6.0</td>\n",
       "      <td>gas</td>\n",
       "      <td>88705.0</td>\n",
       "      <td>automatic</td>\n",
       "      <td>pickup</td>\n",
       "      <td>white</td>\n",
       "      <td>1.0</td>\n",
       "      <td>2018-10-19</td>\n",
       "      <td>50</td>\n",
       "    </tr>\n",
       "    <tr>\n",
       "      <th>2</th>\n",
       "      <td>5500</td>\n",
       "      <td>2013.0</td>\n",
       "      <td>hyundai sonata</td>\n",
       "      <td>like new</td>\n",
       "      <td>4.0</td>\n",
       "      <td>gas</td>\n",
       "      <td>110000.0</td>\n",
       "      <td>automatic</td>\n",
       "      <td>sedan</td>\n",
       "      <td>red</td>\n",
       "      <td>NaN</td>\n",
       "      <td>2019-02-07</td>\n",
       "      <td>79</td>\n",
       "    </tr>\n",
       "    <tr>\n",
       "      <th>3</th>\n",
       "      <td>1500</td>\n",
       "      <td>2003.0</td>\n",
       "      <td>ford f-150</td>\n",
       "      <td>fair</td>\n",
       "      <td>8.0</td>\n",
       "      <td>gas</td>\n",
       "      <td>NaN</td>\n",
       "      <td>automatic</td>\n",
       "      <td>pickup</td>\n",
       "      <td>NaN</td>\n",
       "      <td>NaN</td>\n",
       "      <td>2019-03-22</td>\n",
       "      <td>9</td>\n",
       "    </tr>\n",
       "    <tr>\n",
       "      <th>4</th>\n",
       "      <td>14900</td>\n",
       "      <td>2017.0</td>\n",
       "      <td>chrysler 200</td>\n",
       "      <td>excellent</td>\n",
       "      <td>4.0</td>\n",
       "      <td>gas</td>\n",
       "      <td>80903.0</td>\n",
       "      <td>automatic</td>\n",
       "      <td>sedan</td>\n",
       "      <td>black</td>\n",
       "      <td>NaN</td>\n",
       "      <td>2019-04-02</td>\n",
       "      <td>28</td>\n",
       "    </tr>\n",
       "  </tbody>\n",
       "</table>\n",
       "</div>"
      ],
      "text/plain": [
       "   price  model_year           model  condition  cylinders fuel  odometer  \\\n",
       "0   9400      2011.0          bmw x5       good        6.0  gas  145000.0   \n",
       "1  25500         NaN      ford f-150       good        6.0  gas   88705.0   \n",
       "2   5500      2013.0  hyundai sonata   like new        4.0  gas  110000.0   \n",
       "3   1500      2003.0      ford f-150       fair        8.0  gas       NaN   \n",
       "4  14900      2017.0    chrysler 200  excellent        4.0  gas   80903.0   \n",
       "\n",
       "  transmission    type paint_color  is_4wd date_posted  days_listed  \n",
       "0    automatic     SUV         NaN     1.0  2018-06-23           19  \n",
       "1    automatic  pickup       white     1.0  2018-10-19           50  \n",
       "2    automatic   sedan         red     NaN  2019-02-07           79  \n",
       "3    automatic  pickup         NaN     NaN  2019-03-22            9  \n",
       "4    automatic   sedan       black     NaN  2019-04-02           28  "
      ]
     },
     "metadata": {},
     "output_type": "display_data"
    },
    {
     "name": "stdout",
     "output_type": "stream",
     "text": [
      "<class 'pandas.core.frame.DataFrame'>\n",
      "RangeIndex: 51525 entries, 0 to 51524\n",
      "Data columns (total 13 columns):\n",
      " #   Column        Non-Null Count  Dtype  \n",
      "---  ------        --------------  -----  \n",
      " 0   price         51525 non-null  int64  \n",
      " 1   model_year    47906 non-null  float64\n",
      " 2   model         51525 non-null  object \n",
      " 3   condition     51525 non-null  object \n",
      " 4   cylinders     46265 non-null  float64\n",
      " 5   fuel          51525 non-null  object \n",
      " 6   odometer      43633 non-null  float64\n",
      " 7   transmission  51525 non-null  object \n",
      " 8   type          51525 non-null  object \n",
      " 9   paint_color   42258 non-null  object \n",
      " 10  is_4wd        25572 non-null  float64\n",
      " 11  date_posted   51525 non-null  object \n",
      " 12  days_listed   51525 non-null  int64  \n",
      "dtypes: float64(4), int64(2), object(7)\n",
      "memory usage: 5.1+ MB\n"
     ]
    },
    {
     "data": {
      "text/plain": [
       "None"
      ]
     },
     "metadata": {},
     "output_type": "display_data"
    }
   ],
   "source": [
    "# File information\n",
    "car_sales = pd.read_csv('vehicles_us.csv')\n",
    "display(car_sales.head())\n",
    "display(car_sales.info())"
   ]
  },
  {
   "cell_type": "code",
   "execution_count": 3,
   "metadata": {},
   "outputs": [
    {
     "data": {
      "text/plain": [
       "price            0.00\n",
       "model_year       7.02\n",
       "model            0.00\n",
       "condition        0.00\n",
       "cylinders       10.21\n",
       "fuel             0.00\n",
       "odometer        15.32\n",
       "transmission     0.00\n",
       "type             0.00\n",
       "paint_color     17.99\n",
       "is_4wd          50.37\n",
       "date_posted      0.00\n",
       "days_listed      0.00\n",
       "dtype: float64"
      ]
     },
     "execution_count": 3,
     "metadata": {},
     "output_type": "execute_result"
    }
   ],
   "source": [
    "# Rate of missing values in each column to the whole dataset\n",
    "((car_sales.isna().sum()/len(car_sales))*100).round(2)"
   ]
  },
  {
   "cell_type": "markdown",
   "metadata": {},
   "source": [
    "### Step 2. Data Preprocessing"
   ]
  },
  {
   "cell_type": "code",
   "execution_count": 4,
   "metadata": {
    "scrolled": false
   },
   "outputs": [],
   "source": [
    "# Change date_posted datatype to datetime\n",
    "car_sales['date_posted'] = pd.to_datetime(car_sales['date_posted'])\n",
    "\n",
    "# Fill NaNs in cylinders column with the mean of cars of the same model\n",
    "car_sales['cylinders'] = (\n",
    "                          car_sales\n",
    "                          .groupby('model' , sort=False)['cylinders']\n",
    "                          .apply(lambda x: x.fillna(x.mean()))\n",
    "                          )\n",
    "car_sales['cylinders'] = car_sales['cylinders'].round(0).astype(int)\n",
    "\n",
    "# Filled the NaNs in the 'paint_color' column with the mode of the grouped models.\n",
    "car_sales['paint_color'] = (\n",
    "                            car_sales\n",
    "                            .groupby('model', sort=False)['paint_color']\n",
    "                            .apply(lambda x: x.fillna(x.mode().iloc[0]))\n",
    "                            )\n",
    "\n",
    "# Fill the NaNs in is_4wd column with zeros since the column contains either 1 or 0\n",
    "car_sales['is_4wd'].fillna(0, inplace=True)\n",
    "car_sales['is_4wd'] = car_sales['is_4wd'].astype(int)"
   ]
  },
  {
   "cell_type": "code",
   "execution_count": 5,
   "metadata": {},
   "outputs": [],
   "source": [
    "# Fill NaNs in model_year column with the median of cars of the same model\n",
    "car_sales['model_year'] = (\n",
    "    car_sales\n",
    "    .groupby('model', sort=False)['model_year']\n",
    "    .apply(lambda x: x.fillna(x.median()))\n",
    "    .astype(int)\n",
    "    )\n",
    "\n",
    "# Replace model_year of model 'ford f-150' with the median of cars of the same model\n",
    "car_sales.loc[car_sales['model_year'] == 1929, 'model_year'] = 2011"
   ]
  },
  {
   "cell_type": "code",
   "execution_count": 6,
   "metadata": {},
   "outputs": [],
   "source": [
    "# Surpress the 'RuntimeWarning: Mean of empty slice' warning that filling the NaNs in odometer column generates\n",
    "warnings.filterwarnings(action='ignore', message='Mean of empty slice')\n",
    "\n",
    "# Fill NaNs in odometer column with the median of cars of the same model year and condition\n",
    "car_sales['odometer'] = (\n",
    "                        car_sales\n",
    "                        .groupby(['model_year', 'condition'], sort=False)['odometer']\n",
    "                        .apply(lambda x: x.fillna(x.median()))\n",
    "                        )\n",
    "\n",
    "# Drop 6 NaNs left after filling NaNs in the column with median of cars of the same model year and condition \n",
    "car_sales.dropna(subset=['odometer'], inplace=True)"
   ]
  },
  {
   "cell_type": "code",
   "execution_count": 7,
   "metadata": {},
   "outputs": [
    {
     "data": {
      "text/plain": [
       "0"
      ]
     },
     "execution_count": 7,
     "metadata": {},
     "output_type": "execute_result"
    }
   ],
   "source": [
    "# Check for duplicates\n",
    "len(car_sales[car_sales.duplicated()])"
   ]
  },
  {
   "cell_type": "markdown",
   "metadata": {},
   "source": [
    "### Step 3. Data Manipulation"
   ]
  },
  {
   "cell_type": "code",
   "execution_count": 8,
   "metadata": {},
   "outputs": [],
   "source": [
    "# Add year_posted, vehicle_age and mileage per year columns to the dataset\n",
    "car_sales['date_posted'] = pd.to_datetime(car_sales['date_posted'], format='%Y-%m-%d')\n",
    "car_sales['year_posted'] = car_sales['date_posted'].dt.year\n",
    "car_sales['vehicle_age'] = car_sales['year_posted'] - car_sales['model_year']\n",
    "car_sales['mileage_per_year'] = car_sales['odometer'] / car_sales['vehicle_age']\n",
    "\n",
    "# Replace the infs in mileage_per_year column with the respective value in odometer column since the vehicle age is 0\n",
    "not_inf_mileage = car_sales.query('mileage_per_year != \"inf\"')\n",
    "car_sales['new_mileage_per_year'] = (\n",
    "                                    car_sales['mileage_per_year']\n",
    "                                    .where(car_sales['mileage_per_year']\n",
    "                                    .isin(not_inf_mileage['mileage_per_year']), car_sales['odometer'])\n",
    "                                    .round(2)\n",
    "                                    )\n",
    "del car_sales['mileage_per_year']\n",
    "car_sales['new_mileage_per_year'].fillna(0, inplace=True)\n",
    "car_sales.rename(columns={'new_mileage_per_year': 'mileage'}, inplace=True)\n",
    "\n",
    "# Replace the 'inf' in mileage column with 0 since their odometer is 0\n",
    "car_sales['mileage'].replace([np.inf, -np.inf], 0, inplace=True)"
   ]
  },
  {
   "cell_type": "code",
   "execution_count": 9,
   "metadata": {
    "scrolled": true
   },
   "outputs": [],
   "source": [
    "# Change the values in the condition column to numeric\n",
    "mapping = {'new': 5, 'like new': 4, 'excellent': 3, 'good': 2, 'fair': 1, 'salvage': 0}\n",
    "car_sales['condition'] = car_sales['condition'].apply(lambda x: mapping[x])"
   ]
  },
  {
   "cell_type": "code",
   "execution_count": 10,
   "metadata": {},
   "outputs": [
    {
     "data": {
      "text/html": [
       "<div>\n",
       "<style scoped>\n",
       "    .dataframe tbody tr th:only-of-type {\n",
       "        vertical-align: middle;\n",
       "    }\n",
       "\n",
       "    .dataframe tbody tr th {\n",
       "        vertical-align: top;\n",
       "    }\n",
       "\n",
       "    .dataframe thead th {\n",
       "        text-align: right;\n",
       "    }\n",
       "</style>\n",
       "<table border=\"1\" class=\"dataframe\">\n",
       "  <thead>\n",
       "    <tr style=\"text-align: right;\">\n",
       "      <th></th>\n",
       "      <th>price</th>\n",
       "      <th>model_year</th>\n",
       "      <th>model</th>\n",
       "      <th>condition</th>\n",
       "      <th>cylinders</th>\n",
       "      <th>fuel</th>\n",
       "      <th>odometer</th>\n",
       "      <th>transmission</th>\n",
       "      <th>type</th>\n",
       "      <th>paint_color</th>\n",
       "      <th>is_4wd</th>\n",
       "      <th>date_posted</th>\n",
       "      <th>days_listed</th>\n",
       "      <th>year_posted</th>\n",
       "      <th>vehicle_age</th>\n",
       "      <th>mileage</th>\n",
       "    </tr>\n",
       "  </thead>\n",
       "  <tbody>\n",
       "    <tr>\n",
       "      <th>0</th>\n",
       "      <td>9400</td>\n",
       "      <td>2011</td>\n",
       "      <td>bmw x5</td>\n",
       "      <td>2</td>\n",
       "      <td>6</td>\n",
       "      <td>gas</td>\n",
       "      <td>145000.0</td>\n",
       "      <td>automatic</td>\n",
       "      <td>SUV</td>\n",
       "      <td>black</td>\n",
       "      <td>1</td>\n",
       "      <td>2018-06-23</td>\n",
       "      <td>19</td>\n",
       "      <td>2018</td>\n",
       "      <td>7</td>\n",
       "      <td>20714.29</td>\n",
       "    </tr>\n",
       "    <tr>\n",
       "      <th>1</th>\n",
       "      <td>25500</td>\n",
       "      <td>2011</td>\n",
       "      <td>ford f-150</td>\n",
       "      <td>2</td>\n",
       "      <td>6</td>\n",
       "      <td>gas</td>\n",
       "      <td>88705.0</td>\n",
       "      <td>automatic</td>\n",
       "      <td>pickup</td>\n",
       "      <td>white</td>\n",
       "      <td>1</td>\n",
       "      <td>2018-10-19</td>\n",
       "      <td>50</td>\n",
       "      <td>2018</td>\n",
       "      <td>7</td>\n",
       "      <td>12672.14</td>\n",
       "    </tr>\n",
       "  </tbody>\n",
       "</table>\n",
       "</div>"
      ],
      "text/plain": [
       "   price  model_year       model  condition  cylinders fuel  odometer  \\\n",
       "0   9400        2011      bmw x5          2          6  gas  145000.0   \n",
       "1  25500        2011  ford f-150          2          6  gas   88705.0   \n",
       "\n",
       "  transmission    type paint_color  is_4wd date_posted  days_listed  \\\n",
       "0    automatic     SUV       black       1  2018-06-23           19   \n",
       "1    automatic  pickup       white       1  2018-10-19           50   \n",
       "\n",
       "   year_posted  vehicle_age   mileage  \n",
       "0         2018            7  20714.29  \n",
       "1         2018            7  12672.14  "
      ]
     },
     "execution_count": 10,
     "metadata": {},
     "output_type": "execute_result"
    }
   ],
   "source": [
    "car_sales.head(2)"
   ]
  },
  {
   "cell_type": "markdown",
   "metadata": {},
   "source": [
    "### Exploratory Data Analysis"
   ]
  },
  {
   "cell_type": "markdown",
   "metadata": {},
   "source": [
    "Calculate the whiskers"
   ]
  },
  {
   "cell_type": "code",
   "execution_count": 11,
   "metadata": {},
   "outputs": [],
   "source": [
    "def whiskers_calculator(df, a_col):\n",
    "    '''\n",
    "    This function calculates the Q1, Q3, IQR, and upper and lower whiskers for the quantitative columns.\n",
    "    '''\n",
    "\n",
    "    a_dict = {}\n",
    "    Q1 = df[a_col].quantile(0.25)\n",
    "    Q3 = df[a_col].quantile(0.75)\n",
    "    IQR = Q3 - Q1\n",
    "    upper_whisker = round((Q3 + 1.5 * IQR), 2)\n",
    "    lower_whisker = round((Q1 - 1.5 * IQR), 2)\n",
    "    a_dict[a_col] = upper_whisker\n",
    "    display(a_dict)"
   ]
  },
  {
   "cell_type": "code",
   "execution_count": 12,
   "metadata": {},
   "outputs": [
    {
     "data": {
      "text/plain": [
       "{'price': 34592.5}"
      ]
     },
     "metadata": {},
     "output_type": "display_data"
    },
    {
     "data": {
      "text/plain": [
       "{'vehicle_age': 24.0}"
      ]
     },
     "metadata": {},
     "output_type": "display_data"
    },
    {
     "data": {
      "text/plain": [
       "{'mileage': 35872.27}"
      ]
     },
     "metadata": {},
     "output_type": "display_data"
    },
    {
     "data": {
      "text/plain": [
       "{'days_listed': 104.0}"
      ]
     },
     "metadata": {},
     "output_type": "display_data"
    }
   ],
   "source": [
    "# Creating a dictionary with each column and its upper whisker\n",
    "outlier_columns = ['price', 'vehicle_age', 'mileage', 'days_listed']\n",
    "\n",
    "for a_col in outlier_columns:\n",
    "    whiskers_calculator(car_sales, a_col)"
   ]
  },
  {
   "cell_type": "markdown",
   "metadata": {},
   "source": [
    "Filter the Outliers "
   ]
  },
  {
   "cell_type": "code",
   "execution_count": 13,
   "metadata": {},
   "outputs": [],
   "source": [
    "# Filter out the outliers \n",
    "filtered1 = car_sales.query('4000 <= price <= 34592.5 and vehicle_age <= 24.0')\n",
    "filtered2 = filtered1.query('mileage <= 35872.27')\n",
    "good_ads = filtered2.query('10 <= days_listed <= 104.0')"
   ]
  },
  {
   "cell_type": "markdown",
   "metadata": {},
   "source": [
    "Compare the unfiltered and filtered data"
   ]
  },
  {
   "cell_type": "code",
   "execution_count": 14,
   "metadata": {},
   "outputs": [],
   "source": [
    "def histogram_comparison(df1, df2, metric):\n",
    "    '''\n",
    "    \n",
    "    '''\n",
    "    df1[metric].hist(bins=30)\n",
    "    df2[metric].hist(bins=30)\n",
    "    plt.title('Comparing the Filtered and Unfiltered Data for {}'.format(metric))\n",
    "    plt.xlabel('{}'.format(metric))\n",
    "    plt.ylabel('counts')\n",
    "    plt.show()"
   ]
  },
  {
   "cell_type": "code",
   "execution_count": 15,
   "metadata": {},
   "outputs": [
    {
     "data": {
      "image/png": "[encoded data removed]",
      "text/plain": [
       "<Figure size 432x288 with 1 Axes>"
      ]
     },
     "metadata": {
      "needs_background": "light"
     },
     "output_type": "display_data"
    },
    {
     "data": {
      "image/png": "[encoded data removed]",
      "text/plain": [
       "<Figure size 432x288 with 1 Axes>"
      ]
     },
     "metadata": {
      "needs_background": "light"
     },
     "output_type": "display_data"
    },
    {
     "data": {
      "image/png": "[encoded data removed]",
      "text/plain": [
       "<Figure size 432x288 with 1 Axes>"
      ]
     },
     "metadata": {
      "needs_background": "light"
     },
     "output_type": "display_data"
    },
    {
     "data": {
      "image/png": "[encoded data removed]",
      "text/plain": [
       "<Figure size 432x288 with 1 Axes>"
      ]
     },
     "metadata": {
      "needs_background": "light"
     },
     "output_type": "display_data"
    }
   ],
   "source": [
    "for a_col in outlier_columns:\n",
    "    histogram_comparison(car_sales, good_ads, a_col)"
   ]
  },
  {
   "cell_type": "markdown",
   "metadata": {},
   "source": [
    "#### Number of ads and average price for each type of vehicle"
   ]
  },
  {
   "cell_type": "code",
   "execution_count": 16,
   "metadata": {},
   "outputs": [
    {
     "data": {
      "text/html": [
       "<div>\n",
       "<style scoped>\n",
       "    .dataframe tbody tr th:only-of-type {\n",
       "        vertical-align: middle;\n",
       "    }\n",
       "\n",
       "    .dataframe tbody tr th {\n",
       "        vertical-align: top;\n",
       "    }\n",
       "\n",
       "    .dataframe thead th {\n",
       "        text-align: right;\n",
       "    }\n",
       "</style>\n",
       "<table border=\"1\" class=\"dataframe\">\n",
       "  <thead>\n",
       "    <tr style=\"text-align: right;\">\n",
       "      <th></th>\n",
       "      <th>price</th>\n",
       "      <th>model_year</th>\n",
       "      <th>model</th>\n",
       "      <th>condition</th>\n",
       "      <th>cylinders</th>\n",
       "      <th>fuel</th>\n",
       "      <th>odometer</th>\n",
       "      <th>transmission</th>\n",
       "      <th>type</th>\n",
       "      <th>paint_color</th>\n",
       "      <th>is_4wd</th>\n",
       "      <th>date_posted</th>\n",
       "      <th>days_listed</th>\n",
       "      <th>year_posted</th>\n",
       "      <th>vehicle_age</th>\n",
       "      <th>mileage</th>\n",
       "    </tr>\n",
       "  </thead>\n",
       "  <tbody>\n",
       "    <tr>\n",
       "      <th>0</th>\n",
       "      <td>9400</td>\n",
       "      <td>2011</td>\n",
       "      <td>bmw x5</td>\n",
       "      <td>2</td>\n",
       "      <td>6</td>\n",
       "      <td>gas</td>\n",
       "      <td>145000.0</td>\n",
       "      <td>automatic</td>\n",
       "      <td>SUV</td>\n",
       "      <td>black</td>\n",
       "      <td>1</td>\n",
       "      <td>2018-06-23</td>\n",
       "      <td>19</td>\n",
       "      <td>2018</td>\n",
       "      <td>7</td>\n",
       "      <td>20714.29</td>\n",
       "    </tr>\n",
       "    <tr>\n",
       "      <th>1</th>\n",
       "      <td>25500</td>\n",
       "      <td>2011</td>\n",
       "      <td>ford f-150</td>\n",
       "      <td>2</td>\n",
       "      <td>6</td>\n",
       "      <td>gas</td>\n",
       "      <td>88705.0</td>\n",
       "      <td>automatic</td>\n",
       "      <td>pickup</td>\n",
       "      <td>white</td>\n",
       "      <td>1</td>\n",
       "      <td>2018-10-19</td>\n",
       "      <td>50</td>\n",
       "      <td>2018</td>\n",
       "      <td>7</td>\n",
       "      <td>12672.14</td>\n",
       "    </tr>\n",
       "    <tr>\n",
       "      <th>2</th>\n",
       "      <td>5500</td>\n",
       "      <td>2013</td>\n",
       "      <td>hyundai sonata</td>\n",
       "      <td>4</td>\n",
       "      <td>4</td>\n",
       "      <td>gas</td>\n",
       "      <td>110000.0</td>\n",
       "      <td>automatic</td>\n",
       "      <td>sedan</td>\n",
       "      <td>red</td>\n",
       "      <td>0</td>\n",
       "      <td>2019-02-07</td>\n",
       "      <td>79</td>\n",
       "      <td>2019</td>\n",
       "      <td>6</td>\n",
       "      <td>18333.33</td>\n",
       "    </tr>\n",
       "    <tr>\n",
       "      <th>3</th>\n",
       "      <td>1500</td>\n",
       "      <td>2003</td>\n",
       "      <td>ford f-150</td>\n",
       "      <td>1</td>\n",
       "      <td>8</td>\n",
       "      <td>gas</td>\n",
       "      <td>193850.0</td>\n",
       "      <td>automatic</td>\n",
       "      <td>pickup</td>\n",
       "      <td>white</td>\n",
       "      <td>0</td>\n",
       "      <td>2019-03-22</td>\n",
       "      <td>9</td>\n",
       "      <td>2019</td>\n",
       "      <td>16</td>\n",
       "      <td>12115.62</td>\n",
       "    </tr>\n",
       "    <tr>\n",
       "      <th>4</th>\n",
       "      <td>14900</td>\n",
       "      <td>2017</td>\n",
       "      <td>chrysler 200</td>\n",
       "      <td>3</td>\n",
       "      <td>4</td>\n",
       "      <td>gas</td>\n",
       "      <td>80903.0</td>\n",
       "      <td>automatic</td>\n",
       "      <td>sedan</td>\n",
       "      <td>black</td>\n",
       "      <td>0</td>\n",
       "      <td>2019-04-02</td>\n",
       "      <td>28</td>\n",
       "      <td>2019</td>\n",
       "      <td>2</td>\n",
       "      <td>40451.50</td>\n",
       "    </tr>\n",
       "  </tbody>\n",
       "</table>\n",
       "</div>"
      ],
      "text/plain": [
       "   price  model_year           model  condition  cylinders fuel  odometer  \\\n",
       "0   9400        2011          bmw x5          2          6  gas  145000.0   \n",
       "1  25500        2011      ford f-150          2          6  gas   88705.0   \n",
       "2   5500        2013  hyundai sonata          4          4  gas  110000.0   \n",
       "3   1500        2003      ford f-150          1          8  gas  193850.0   \n",
       "4  14900        2017    chrysler 200          3          4  gas   80903.0   \n",
       "\n",
       "  transmission    type paint_color  is_4wd date_posted  days_listed  \\\n",
       "0    automatic     SUV       black       1  2018-06-23           19   \n",
       "1    automatic  pickup       white       1  2018-10-19           50   \n",
       "2    automatic   sedan         red       0  2019-02-07           79   \n",
       "3    automatic  pickup       white       0  2019-03-22            9   \n",
       "4    automatic   sedan       black       0  2019-04-02           28   \n",
       "\n",
       "   year_posted  vehicle_age   mileage  \n",
       "0         2018            7  20714.29  \n",
       "1         2018            7  12672.14  \n",
       "2         2019            6  18333.33  \n",
       "3         2019           16  12115.62  \n",
       "4         2019            2  40451.50  "
      ]
     },
     "execution_count": 16,
     "metadata": {},
     "output_type": "execute_result"
    }
   ],
   "source": [
    "car_sales.head()"
   ]
  },
  {
   "cell_type": "code",
   "execution_count": 17,
   "metadata": {},
   "outputs": [
    {
     "data": {
      "image/png": "[encoded data removed]",
      "text/plain": [
       "<Figure size 576x432 with 1 Axes>"
      ]
     },
     "metadata": {
      "needs_background": "light"
     },
     "output_type": "display_data"
    },
    {
     "data": {
      "image/png": "[encoded data removed]",
      "text/plain": [
       "<Figure size 576x432 with 1 Axes>"
      ]
     },
     "metadata": {
      "needs_background": "light"
     },
     "output_type": "display_data"
    }
   ],
   "source": [
    "#Analyze the average number of ads and the average price for each type of vehicle. Plot a graph showing the\n",
    "#dependence of the number of ads on the vehicle type. Select the two types with the greatest number of ads\n",
    "model_dayslisted = (\n",
    "                    car_sales\n",
    "                    .groupby('type', as_index=False)['days_listed']\n",
    "                    .mean()\n",
    "                    .sort_values(by='days_listed',ascending=True)\n",
    "                    )\n",
    "model_dayslisted['days_listed'] = model_dayslisted['days_listed'].round(2)\n",
    "\n",
    "model_price = (\n",
    "               car_sales\n",
    "               .groupby('type', as_index=False)['price']\n",
    "               .mean()\n",
    "               .sort_values(by='price',ascending=True)\n",
    "               )\n",
    "model_price['price'] = model_price['price'].round(2)\n",
    "\n",
    "\n",
    "plt.figure(figsize=(8,6))\n",
    "plt.bar(model_dayslisted['type'], model_dayslisted['days_listed'])\n",
    "plt.title('Number of Ads of Vehicle Types')\n",
    "plt.xlabel('Vehicle Types', size=12)\n",
    "plt.ylabel('Number of ads', size=12)\n",
    "plt.xticks(rotation=80)\n",
    "plt.show()\n",
    "\n",
    "plt.figure(figsize=(8,6))\n",
    "plt.bar(model_price['type'], model_price['price'])\n",
    "plt.title('Average Prices of Vehicle Types')\n",
    "plt.xlabel('Vehicle Types', size=12)\n",
    "plt.ylabel('Average Price', size=12)\n",
    "plt.xticks(rotation=80)\n",
    "plt.show()"
   ]
  },
  {
   "cell_type": "code",
   "execution_count": 18,
   "metadata": {},
   "outputs": [
    {
     "data": {
      "text/html": [
       "<div>\n",
       "<style scoped>\n",
       "    .dataframe tbody tr th:only-of-type {\n",
       "        vertical-align: middle;\n",
       "    }\n",
       "\n",
       "    .dataframe tbody tr th {\n",
       "        vertical-align: top;\n",
       "    }\n",
       "\n",
       "    .dataframe thead th {\n",
       "        text-align: right;\n",
       "    }\n",
       "</style>\n",
       "<table border=\"1\" class=\"dataframe\">\n",
       "  <thead>\n",
       "    <tr style=\"text-align: right;\">\n",
       "      <th></th>\n",
       "      <th>type</th>\n",
       "      <th>price</th>\n",
       "      <th>days_listed</th>\n",
       "    </tr>\n",
       "  </thead>\n",
       "  <tbody>\n",
       "    <tr>\n",
       "      <th>0</th>\n",
       "      <td>hatchback</td>\n",
       "      <td>6868.51</td>\n",
       "      <td>40.53</td>\n",
       "    </tr>\n",
       "    <tr>\n",
       "      <th>1</th>\n",
       "      <td>sedan</td>\n",
       "      <td>6965.76</td>\n",
       "      <td>39.43</td>\n",
       "    </tr>\n",
       "    <tr>\n",
       "      <th>2</th>\n",
       "      <td>mini-van</td>\n",
       "      <td>8193.18</td>\n",
       "      <td>39.40</td>\n",
       "    </tr>\n",
       "    <tr>\n",
       "      <th>3</th>\n",
       "      <td>wagon</td>\n",
       "      <td>9088.13</td>\n",
       "      <td>40.57</td>\n",
       "    </tr>\n",
       "    <tr>\n",
       "      <th>4</th>\n",
       "      <td>van</td>\n",
       "      <td>10546.94</td>\n",
       "      <td>40.70</td>\n",
       "    </tr>\n",
       "  </tbody>\n",
       "</table>\n",
       "</div>"
      ],
      "text/plain": [
       "        type     price  days_listed\n",
       "0  hatchback   6868.51        40.53\n",
       "1      sedan   6965.76        39.43\n",
       "2   mini-van   8193.18        39.40\n",
       "3      wagon   9088.13        40.57\n",
       "4        van  10546.94        40.70"
      ]
     },
     "metadata": {},
     "output_type": "display_data"
    },
    {
     "data": {
      "text/plain": [
       "'The correlation between number of days listed of a vehicle type and its price is 0.204'"
      ]
     },
     "metadata": {},
     "output_type": "display_data"
    }
   ],
   "source": [
    "model_df = pd.merge(model_price, model_dayslisted, on='type')\n",
    "display(model_df.head())\n",
    "display('The correlation between number of days listed of a vehicle type and its price is {}'\n",
    "        .format(round(model_df['days_listed'].corr(model_df['price']), 3)))"
   ]
  },
  {
   "cell_type": "markdown",
   "metadata": {},
   "source": [
    "<b>Conclusion</b>\n",
    "\n",
    "There is a small positive correlation (0.204) between the price of a vehicle and the average number of days listed."
   ]
  },
  {
   "cell_type": "markdown",
   "metadata": {},
   "source": [
    "#### Factors that Impact Vehicle Price - Age, Mileage, Condition"
   ]
  },
  {
   "cell_type": "markdown",
   "metadata": {},
   "source": [
    "##### SUVs"
   ]
  },
  {
   "cell_type": "code",
   "execution_count": 19,
   "metadata": {},
   "outputs": [
    {
     "data": {
      "text/html": [
       "<div>\n",
       "<style scoped>\n",
       "    .dataframe tbody tr th:only-of-type {\n",
       "        vertical-align: middle;\n",
       "    }\n",
       "\n",
       "    .dataframe tbody tr th {\n",
       "        vertical-align: top;\n",
       "    }\n",
       "\n",
       "    .dataframe thead th {\n",
       "        text-align: right;\n",
       "    }\n",
       "</style>\n",
       "<table border=\"1\" class=\"dataframe\">\n",
       "  <thead>\n",
       "    <tr style=\"text-align: right;\">\n",
       "      <th></th>\n",
       "      <th>model</th>\n",
       "      <th>condition</th>\n",
       "      <th>mileage</th>\n",
       "      <th>price</th>\n",
       "      <th>vehicle_age</th>\n",
       "    </tr>\n",
       "  </thead>\n",
       "  <tbody>\n",
       "    <tr>\n",
       "      <th>0</th>\n",
       "      <td>acura tl</td>\n",
       "      <td>2</td>\n",
       "      <td>11967</td>\n",
       "      <td>4950</td>\n",
       "      <td>11</td>\n",
       "    </tr>\n",
       "    <tr>\n",
       "      <th>1</th>\n",
       "      <td>bmw x5</td>\n",
       "      <td>3</td>\n",
       "      <td>13658</td>\n",
       "      <td>11613</td>\n",
       "      <td>9</td>\n",
       "    </tr>\n",
       "    <tr>\n",
       "      <th>2</th>\n",
       "      <td>buick enclave</td>\n",
       "      <td>3</td>\n",
       "      <td>19015</td>\n",
       "      <td>12357</td>\n",
       "      <td>6</td>\n",
       "    </tr>\n",
       "    <tr>\n",
       "      <th>3</th>\n",
       "      <td>cadillac escalade</td>\n",
       "      <td>3</td>\n",
       "      <td>14013</td>\n",
       "      <td>13132</td>\n",
       "      <td>10</td>\n",
       "    </tr>\n",
       "    <tr>\n",
       "      <th>4</th>\n",
       "      <td>chevrolet cruze</td>\n",
       "      <td>2</td>\n",
       "      <td>26</td>\n",
       "      <td>4450</td>\n",
       "      <td>6</td>\n",
       "    </tr>\n",
       "  </tbody>\n",
       "</table>\n",
       "</div>"
      ],
      "text/plain": [
       "               model  condition  mileage  price  vehicle_age\n",
       "0           acura tl          2    11967   4950           11\n",
       "1             bmw x5          3    13658  11613            9\n",
       "2      buick enclave          3    19015  12357            6\n",
       "3  cadillac escalade          3    14013  13132           10\n",
       "4    chevrolet cruze          2       26   4450            6"
      ]
     },
     "metadata": {},
     "output_type": "display_data"
    },
    {
     "data": {
      "text/html": [
       "<div>\n",
       "<style scoped>\n",
       "    .dataframe tbody tr th:only-of-type {\n",
       "        vertical-align: middle;\n",
       "    }\n",
       "\n",
       "    .dataframe tbody tr th {\n",
       "        vertical-align: top;\n",
       "    }\n",
       "\n",
       "    .dataframe thead th {\n",
       "        text-align: right;\n",
       "    }\n",
       "</style>\n",
       "<table border=\"1\" class=\"dataframe\">\n",
       "  <thead>\n",
       "    <tr style=\"text-align: right;\">\n",
       "      <th></th>\n",
       "      <th>model</th>\n",
       "      <th>condition</th>\n",
       "      <th>mileage</th>\n",
       "      <th>price</th>\n",
       "      <th>vehicle_age</th>\n",
       "    </tr>\n",
       "  </thead>\n",
       "  <tbody>\n",
       "    <tr>\n",
       "      <th>0</th>\n",
       "      <td>bmw x5</td>\n",
       "      <td>3</td>\n",
       "      <td>14873</td>\n",
       "      <td>8966</td>\n",
       "      <td>10</td>\n",
       "    </tr>\n",
       "    <tr>\n",
       "      <th>1</th>\n",
       "      <td>buick enclave</td>\n",
       "      <td>4</td>\n",
       "      <td>24962</td>\n",
       "      <td>15499</td>\n",
       "      <td>2</td>\n",
       "    </tr>\n",
       "    <tr>\n",
       "      <th>2</th>\n",
       "      <td>cadillac escalade</td>\n",
       "      <td>3</td>\n",
       "      <td>14813</td>\n",
       "      <td>11733</td>\n",
       "      <td>10</td>\n",
       "    </tr>\n",
       "    <tr>\n",
       "      <th>3</th>\n",
       "      <td>chevrolet colorado</td>\n",
       "      <td>3</td>\n",
       "      <td>14280</td>\n",
       "      <td>17217</td>\n",
       "      <td>5</td>\n",
       "    </tr>\n",
       "    <tr>\n",
       "      <th>4</th>\n",
       "      <td>chevrolet corvette</td>\n",
       "      <td>2</td>\n",
       "      <td>2981</td>\n",
       "      <td>14995</td>\n",
       "      <td>19</td>\n",
       "    </tr>\n",
       "  </tbody>\n",
       "</table>\n",
       "</div>"
      ],
      "text/plain": [
       "                model  condition  mileage  price  vehicle_age\n",
       "0              bmw x5          3    14873   8966           10\n",
       "1       buick enclave          4    24962  15499            2\n",
       "2   cadillac escalade          3    14813  11733           10\n",
       "3  chevrolet colorado          3    14280  17217            5\n",
       "4  chevrolet corvette          2     2981  14995           19"
      ]
     },
     "metadata": {},
     "output_type": "display_data"
    }
   ],
   "source": [
    "# Create a pivot table for SUVs\n",
    "suv_price_dependency = (\n",
    "                good_ads\n",
    "                .query('type == \"SUV\"')\n",
    "                .pivot_table(index='model', values=['price', 'vehicle_age', 'mileage', 'condition'], aggfunc='mean')\n",
    "                .reset_index()\n",
    "                )\n",
    "columns = ['price', 'vehicle_age', 'mileage', 'condition']\n",
    "for col in columns:\n",
    "    suv_price_dependency[col] = suv_price_dependency[col].round(0).astype(int)\n",
    "\n",
    "display(suv_price_dependency.head())\n",
    "\n",
    "# Create a pivot table for trucks\n",
    "truck_price_dependency = (\n",
    "                good_ads\n",
    "                .query('type == \"truck\"')\n",
    "                .pivot_table(index='model', values=['price', 'vehicle_age', 'mileage', 'condition'], aggfunc='mean')\n",
    "                .reset_index()\n",
    "                )\n",
    "\n",
    "columns = ['price', 'vehicle_age', 'mileage', 'condition']\n",
    "for col in columns:\n",
    "    truck_price_dependency[col] = truck_price_dependency[col].round(0).astype(int)\n",
    "\n",
    "display(truck_price_dependency.head())"
   ]
  },
  {
   "cell_type": "markdown",
   "metadata": {},
   "source": [
    "I generated a pivot table from the earlier filtered data and querried the data to generate rows that contain only rows whose type is SUV. The pivot table contains the condition of the car, mileage, price, and vehicle's age. I also rounded each column to zero and changed their types to integer for ease of manipulation."
   ]
  },
  {
   "cell_type": "code",
   "execution_count": 20,
   "metadata": {},
   "outputs": [
    {
     "data": {
      "text/plain": [
       "-0.29445673136367473"
      ]
     },
     "metadata": {},
     "output_type": "display_data"
    },
    {
     "data": {
      "text/plain": [
       "-0.3996867875160479"
      ]
     },
     "metadata": {},
     "output_type": "display_data"
    },
    {
     "data": {
      "image/png": "[encoded data removed]",
      "text/plain": [
       "<Figure size 864x432 with 2 Axes>"
      ]
     },
     "metadata": {
      "needs_background": "light"
     },
     "output_type": "display_data"
    }
   ],
   "source": [
    "#Correlation between vehicle age and price  in SUVs and Trucks\n",
    "display(suv_price_dependency['price'].corr(suv_price_dependency['vehicle_age']))\n",
    "display(truck_price_dependency['price'].corr(truck_price_dependency['vehicle_age']))\n",
    "\n",
    "fig, ax = plt.subplots(nrows=1, ncols=2, figsize=(12, 6))\n",
    "\n",
    "ax[0].bar(suv_price_dependency['vehicle_age'], suv_price_dependency['price'])\n",
    "ax[0].set_title('SUVs Mileages and their Prices', fontsize=15)\n",
    "ax[0].set_ylim(0, 35000)\n",
    "ax[0].set_xlabel(\"Mileage\", fontsize=13)\n",
    "ax[0].set_ylabel(\"Price\", fontsize=13)\n",
    "\n",
    "ax[1].bar(truck_price_dependency['vehicle_age'], truck_price_dependency['price'])\n",
    "ax[1].set_title(\"Trucks Mileages and their Prices\", fontsize=15)\n",
    "ax[1].set_ylim(0, 35000)\n",
    "ax[1].set_xlabel(\"Mileage\", fontsize=13)\n",
    "ax[1].set_ylabel(\"Price\", fontsize=13)\n",
    "fig.tight_layout()\n",
    "plt.show()"
   ]
  },
  {
   "cell_type": "markdown",
   "metadata": {},
   "source": [
    "##### Conclusion\n",
    "\n",
    "Here, with the correlation coefficient = -0.282, the negative correlation between a vehicle's age and its price means that the higher the age of a vehicle, the lower the price of the vehicle vice versa."
   ]
  },
  {
   "cell_type": "code",
   "execution_count": 21,
   "metadata": {},
   "outputs": [
    {
     "data": {
      "text/plain": [
       "0.31349205572801975"
      ]
     },
     "metadata": {},
     "output_type": "display_data"
    },
    {
     "data": {
      "image/png": "[encoded data removed]",
      "text/plain": [
       "<Figure size 864x432 with 2 Axes>"
      ]
     },
     "metadata": {
      "needs_background": "light"
     },
     "output_type": "display_data"
    }
   ],
   "source": [
    "#Correlation between mileage and price  in SUVs and Trucks\n",
    "display(suv_price_dependency['price'].corr(suv_price_dependency['mileage']))\n",
    "\n",
    "fig, ax = plt.subplots(nrows=1, ncols=2, figsize=(12, 6))\n",
    "\n",
    "ax[0].scatter(x = suv_price_dependency['mileage'], y = suv_price_dependency['price'])\n",
    "ax[0].set_title('SUVs Mileages and their Prices', fontsize=15)\n",
    "ax[0].set_ylim(0, 35000)\n",
    "ax[0].set_xlabel(\"Mileage\", fontsize=13)\n",
    "ax[0].set_ylabel(\"Price\", fontsize=13)\n",
    "\n",
    "ax[1].scatter(x = truck_price_dependency['mileage'], y = truck_price_dependency['price'])\n",
    "ax[1].set_title(\"Trucks Mileages and their Prices\", fontsize=15)\n",
    "ax[1].set_ylim(0, 35000)\n",
    "ax[1].set_xlabel(\"Mileage\", fontsize=13)\n",
    "ax[1].set_ylabel(\"Price\", fontsize=13)\n",
    "fig.tight_layout()\n",
    "plt.show()"
   ]
  },
  {
   "cell_type": "markdown",
   "metadata": {},
   "source": [
    "##### Conclusion\n",
    "\n",
    "Here, there is a positive correlation coefficient. Also from the graph, the price tends to slightly increase with increase in mileage. This means that cars riden for longer periods of time have slightly higher average prices than ones with lower mileage."
   ]
  },
  {
   "cell_type": "code",
   "execution_count": 22,
   "metadata": {
    "scrolled": true
   },
   "outputs": [
    {
     "data": {
      "text/plain": [
       "0.30070441750238697"
      ]
     },
     "metadata": {},
     "output_type": "display_data"
    },
    {
     "data": {
      "image/png": "[encoded data removed]",
      "text/plain": [
       "<Figure size 432x288 with 1 Axes>"
      ]
     },
     "metadata": {},
     "output_type": "display_data"
    }
   ],
   "source": [
    "#Correlation between condition and price in SUVs\n",
    "sns.set_style('whitegrid')\n",
    "(sns.boxplot(x='condition', y='price', data=suv_price_dependency)\n",
    "    .set_title('SUV Vehicle Price with respect to Condition'))\n",
    "display(suv_price_dependency['price'].corr(suv_price_dependency['condition']))"
   ]
  },
  {
   "cell_type": "markdown",
   "metadata": {},
   "source": [
    "##### Conclusion\n",
    "\n",
    "Here, there is a positive correlation coefficient. Also from the graph, more cars with condition 3 have slightly higher average prices than cars with condition 2."
   ]
  },
  {
   "cell_type": "markdown",
   "metadata": {},
   "source": [
    "##### Trucks"
   ]
  },
  {
   "cell_type": "code",
   "execution_count": 23,
   "metadata": {},
   "outputs": [
    {
     "data": {
      "text/plain": [
       "['price', 'vehicle_age', 'mileage', 'days_listed']"
      ]
     },
     "execution_count": 23,
     "metadata": {},
     "output_type": "execute_result"
    }
   ],
   "source": [
    "outlier_columns"
   ]
  },
  {
   "cell_type": "code",
   "execution_count": 24,
   "metadata": {},
   "outputs": [
    {
     "data": {
      "text/html": [
       "<div>\n",
       "<style scoped>\n",
       "    .dataframe tbody tr th:only-of-type {\n",
       "        vertical-align: middle;\n",
       "    }\n",
       "\n",
       "    .dataframe tbody tr th {\n",
       "        vertical-align: top;\n",
       "    }\n",
       "\n",
       "    .dataframe thead th {\n",
       "        text-align: right;\n",
       "    }\n",
       "</style>\n",
       "<table border=\"1\" class=\"dataframe\">\n",
       "  <thead>\n",
       "    <tr style=\"text-align: right;\">\n",
       "      <th></th>\n",
       "      <th>model</th>\n",
       "      <th>condition</th>\n",
       "      <th>mileage</th>\n",
       "      <th>price</th>\n",
       "      <th>vehicle_age</th>\n",
       "    </tr>\n",
       "  </thead>\n",
       "  <tbody>\n",
       "    <tr>\n",
       "      <th>0</th>\n",
       "      <td>bmw x5</td>\n",
       "      <td>3</td>\n",
       "      <td>14873</td>\n",
       "      <td>8966</td>\n",
       "      <td>10</td>\n",
       "    </tr>\n",
       "    <tr>\n",
       "      <th>1</th>\n",
       "      <td>buick enclave</td>\n",
       "      <td>4</td>\n",
       "      <td>24962</td>\n",
       "      <td>15499</td>\n",
       "      <td>2</td>\n",
       "    </tr>\n",
       "    <tr>\n",
       "      <th>2</th>\n",
       "      <td>cadillac escalade</td>\n",
       "      <td>3</td>\n",
       "      <td>14813</td>\n",
       "      <td>11733</td>\n",
       "      <td>10</td>\n",
       "    </tr>\n",
       "    <tr>\n",
       "      <th>3</th>\n",
       "      <td>chevrolet colorado</td>\n",
       "      <td>3</td>\n",
       "      <td>14280</td>\n",
       "      <td>17217</td>\n",
       "      <td>5</td>\n",
       "    </tr>\n",
       "    <tr>\n",
       "      <th>4</th>\n",
       "      <td>chevrolet corvette</td>\n",
       "      <td>2</td>\n",
       "      <td>2981</td>\n",
       "      <td>14995</td>\n",
       "      <td>19</td>\n",
       "    </tr>\n",
       "  </tbody>\n",
       "</table>\n",
       "</div>"
      ],
      "text/plain": [
       "                model  condition  mileage  price  vehicle_age\n",
       "0              bmw x5          3    14873   8966           10\n",
       "1       buick enclave          4    24962  15499            2\n",
       "2   cadillac escalade          3    14813  11733           10\n",
       "3  chevrolet colorado          3    14280  17217            5\n",
       "4  chevrolet corvette          2     2981  14995           19"
      ]
     },
     "metadata": {},
     "output_type": "display_data"
    }
   ],
   "source": [
    "# Create a pivot table for trucks\n",
    "truck_data = good_ads.query('type == \"truck\"')\n",
    "truck_price_dependency = (\n",
    "                truck_data\n",
    "                .pivot_table(index='model', values=['price', 'vehicle_age', 'mileage', 'condition'], aggfunc='mean')\n",
    "                .reset_index()\n",
    "                )\n",
    "\n",
    "for a_col in truck_price_dependency.drop('model', axis=1).columns.tolist():\n",
    "    truck_price_dependency[a_col] = truck_price_dependency[a_col].round(0).astype(int)\n",
    "\n",
    "display(truck_price_dependency.head())"
   ]
  },
  {
   "cell_type": "code",
   "execution_count": 25,
   "metadata": {},
   "outputs": [
    {
     "data": {
      "text/plain": [
       "-0.3996867875160479"
      ]
     },
     "metadata": {},
     "output_type": "display_data"
    },
    {
     "data": {
      "image/png": "[encoded data removed]",
      "text/plain": [
       "<Figure size 432x288 with 1 Axes>"
      ]
     },
     "metadata": {},
     "output_type": "display_data"
    }
   ],
   "source": [
    "#Correlation between vehicle's age and price in Trucks\n",
    "(\n",
    "    truck_price_dependency\n",
    "    .plot(kind='scatter', x='vehicle_age', y='price', grid=True, title='Truck Vehicle Price with respect to Age')\n",
    ")\n",
    "display(truck_price_dependency['price'].corr(truck_price_dependency['vehicle_age']))"
   ]
  },
  {
   "cell_type": "markdown",
   "metadata": {},
   "source": [
    "##### Conclusion\n",
    "\n",
    "The correlation coefficient is -0.24. This implies that as the vehicle age increases, the price decreases."
   ]
  },
  {
   "cell_type": "code",
   "execution_count": 26,
   "metadata": {},
   "outputs": [
    {
     "data": {
      "text/plain": [
       "0.26086531731685836"
      ]
     },
     "execution_count": 26,
     "metadata": {},
     "output_type": "execute_result"
    },
    {
     "data": {
      "image/png": "[encoded data removed]",
      "text/plain": [
       "<Figure size 432x288 with 1 Axes>"
      ]
     },
     "metadata": {},
     "output_type": "display_data"
    }
   ],
   "source": [
    "#Correlation between mileage and price in Trucks\n",
    "(\n",
    "    truck_price_dependency\n",
    "    .plot(kind='scatter', x='mileage', y='price', grid=True, title='Truck Vehicle Price with respect to Mileage')\n",
    ")\n",
    "truck_price_dependency['price'].corr(truck_price_dependency['mileage'])"
   ]
  },
  {
   "cell_type": "markdown",
   "metadata": {},
   "source": [
    "##### Conclusion\n",
    "\n",
    "Here, the correlation coefficient is 0.43. This implies that the price slightly increases with an increase in mileage."
   ]
  },
  {
   "cell_type": "code",
   "execution_count": 27,
   "metadata": {},
   "outputs": [
    {
     "data": {
      "text/plain": [
       "-0.28232243439870097"
      ]
     },
     "execution_count": 27,
     "metadata": {},
     "output_type": "execute_result"
    },
    {
     "data": {
      "image/png": "[encoded data removed]",
      "text/plain": [
       "<Figure size 432x288 with 1 Axes>"
      ]
     },
     "metadata": {},
     "output_type": "display_data"
    }
   ],
   "source": [
    "#Correlation between condition and price in Trucks\n",
    "sns.set_style('whitegrid')\n",
    "(\n",
    "    sns\n",
    "    .boxplot(x='condition', y='price', data=truck_price_dependency)\n",
    "    .set_title('Truck Vehicle Price with respect to Condition')\n",
    ")\n",
    "truck_price_dependency['price'].corr(truck_price_dependency['condition'])"
   ]
  },
  {
   "cell_type": "markdown",
   "metadata": {},
   "source": [
    "##### Conclusion\n",
    "\n",
    "Here, the correlation coefficient is -0.28. This implies that the average condition of a truck negatively affects the price."
   ]
  },
  {
   "cell_type": "markdown",
   "metadata": {},
   "source": [
    "<a id='price_impact2'></a> "
   ]
  },
  {
   "cell_type": "markdown",
   "metadata": {},
   "source": [
    "####  Factors that impact price. Paint color, Transmission\n",
    "\n",
    "We only consider SUVs and Truck with `days_listed` of at least 50 as our case study."
   ]
  },
  {
   "cell_type": "code",
   "execution_count": 28,
   "metadata": {},
   "outputs": [
    {
     "data": {
      "text/html": [
       "<div>\n",
       "<style scoped>\n",
       "    .dataframe tbody tr th:only-of-type {\n",
       "        vertical-align: middle;\n",
       "    }\n",
       "\n",
       "    .dataframe tbody tr th {\n",
       "        vertical-align: top;\n",
       "    }\n",
       "\n",
       "    .dataframe thead th {\n",
       "        text-align: right;\n",
       "    }\n",
       "</style>\n",
       "<table border=\"1\" class=\"dataframe\">\n",
       "  <thead>\n",
       "    <tr style=\"text-align: right;\">\n",
       "      <th></th>\n",
       "      <th>model</th>\n",
       "      <th>days_listed</th>\n",
       "      <th>transmission</th>\n",
       "      <th>paint_color</th>\n",
       "      <th>price</th>\n",
       "    </tr>\n",
       "  </thead>\n",
       "  <tbody>\n",
       "    <tr>\n",
       "      <th>0</th>\n",
       "      <td>acura tl</td>\n",
       "      <td>140</td>\n",
       "      <td>automatic</td>\n",
       "      <td>grey</td>\n",
       "      <td>4950.00</td>\n",
       "    </tr>\n",
       "    <tr>\n",
       "      <th>1</th>\n",
       "      <td>bmw x5</td>\n",
       "      <td>7677</td>\n",
       "      <td>automatic</td>\n",
       "      <td>black</td>\n",
       "      <td>11613.08</td>\n",
       "    </tr>\n",
       "    <tr>\n",
       "      <th>2</th>\n",
       "      <td>buick enclave</td>\n",
       "      <td>8139</td>\n",
       "      <td>automatic</td>\n",
       "      <td>brown</td>\n",
       "      <td>12357.04</td>\n",
       "    </tr>\n",
       "    <tr>\n",
       "      <th>3</th>\n",
       "      <td>cadillac escalade</td>\n",
       "      <td>9300</td>\n",
       "      <td>automatic</td>\n",
       "      <td>black</td>\n",
       "      <td>13132.47</td>\n",
       "    </tr>\n",
       "    <tr>\n",
       "      <th>5</th>\n",
       "      <td>chevrolet equinox</td>\n",
       "      <td>14996</td>\n",
       "      <td>automatic</td>\n",
       "      <td>grey</td>\n",
       "      <td>10561.35</td>\n",
       "    </tr>\n",
       "  </tbody>\n",
       "</table>\n",
       "</div>"
      ],
      "text/plain": [
       "               model  days_listed transmission paint_color     price\n",
       "0           acura tl          140    automatic        grey   4950.00\n",
       "1             bmw x5         7677    automatic       black  11613.08\n",
       "2      buick enclave         8139    automatic       brown  12357.04\n",
       "3  cadillac escalade         9300    automatic       black  13132.47\n",
       "5  chevrolet equinox        14996    automatic        grey  10561.35"
      ]
     },
     "execution_count": 28,
     "metadata": {},
     "output_type": "execute_result"
    }
   ],
   "source": [
    "suv_models = (\n",
    "            good_ads\n",
    "            .query('type == \"SUV\"')\n",
    "            .groupby('model', as_index=False)\n",
    "            .agg({'days_listed': 'sum', 'transmission': 'first', 'paint_color': 'first', 'price': 'mean'})\n",
    "            )\n",
    "suv_models = suv_models.query('days_listed >= 50')\n",
    "suv_models['price'] = suv_models['price'].round(2)\n",
    "suv_models.head()"
   ]
  },
  {
   "cell_type": "markdown",
   "metadata": {},
   "source": [
    "#### Boxplot for price against transmission type for SUVs"
   ]
  },
  {
   "cell_type": "code",
   "execution_count": 29,
   "metadata": {
    "scrolled": false
   },
   "outputs": [
    {
     "data": {
      "text/plain": [
       "Text(0.5, 1.0, 'SUV Vehicle Price with respect to Transmission')"
      ]
     },
     "execution_count": 29,
     "metadata": {},
     "output_type": "execute_result"
    },
    {
     "data": {
      "image/png": "[encoded data removed]",
      "text/plain": [
       "<Figure size 432x288 with 1 Axes>"
      ]
     },
     "metadata": {},
     "output_type": "display_data"
    }
   ],
   "source": [
    "sns.set_style(\"whitegrid\")\n",
    "sns.boxplot(x='transmission', y='price', data=suv_models).set_title('SUV Vehicle Price with respect to Transmission')"
   ]
  },
  {
   "cell_type": "markdown",
   "metadata": {},
   "source": [
    "##### Conclusion\n",
    "\n",
    "Above is the boxplots of 'transmission' against 'price' of SUVs. \n",
    "\n",
    "**Manual** SUVs boxplot shows that all SUVs with manual transmission all fall between 5000 to 9800 price range. No huge dispersion or any outliers.\n",
    "\n",
    "**Automatic** SUVs boxplot shows that there are some outlier. The first 50% price range almost coincides with the other 50% price range but with a slight difference. The first 50% of the SUVs are priced between 4800 and 12,000 while the other 50% are priced between 12,000 and 35,000. The upper whisker is around 16,000"
   ]
  },
  {
   "cell_type": "markdown",
   "metadata": {},
   "source": [
    "##### Boxplot charts for price against color for SUVs"
   ]
  },
  {
   "cell_type": "code",
   "execution_count": 30,
   "metadata": {},
   "outputs": [
    {
     "data": {
      "image/png": "[encoded data removed]",
      "text/plain": [
       "<Figure size 432x288 with 1 Axes>"
      ]
     },
     "metadata": {},
     "output_type": "display_data"
    }
   ],
   "source": [
    "sns.set_style(\"whitegrid\")\n",
    "box_color = (\n",
    "            sns\n",
    "            .boxplot(x='paint_color', y='price', data=suv_models)\n",
    "            .set_title('SUV Vehicle Price with respect to Paint_color')\n",
    "            )"
   ]
  },
  {
   "cell_type": "markdown",
   "metadata": {},
   "source": [
    "##### Conclusion\n",
    "\n",
    "Above is the boxplots of 'paint_color' against 'price' of SUVs.\n",
    "\n",
    "The boxplot shows that only the **Brown** colored car is normally distributed because their medians lie in the middle of their boxes. This implies that there are some level of skewness in the dataset for other colors.\n",
    "\n",
    "Only **white** and **blue** cars have outliers - upper and lower outliers respectively.\n",
    "\n",
    "**Black** has its median closer to the 3rd quartile showing that it is negatively skewed. This also means that most of its prices are between 9,000 and 12,900.\n",
    "\n",
    "SUVs with the most variability in prices are **white**, **red**, **grey**, and **silver**. This can be seen from the length of their boxes. Although most of their prices are distributed below their median prices.\n",
    "\n",
    "**Blue** SUVs have positively skewed boxplot which means that it has most of its prices above the 50% of its distribution. This upper 50% is distributed within 11,000 and 13,500. The lower 50% all fall in the range of price below 10,500\n",
    "\n",
    "**Silver** SUVs in this category cost between 4,000 and 14,500. 25% cost between 4,000 and 5,500, the next 25% cost between 5,500 and 9,500 while the last 50% of them cost btw 9,500 and 14,500 for which half of the prices range btw 9,500 and 9,900.\n",
    "\n",
    "**Green** colored SUVs have the least variabilty because the prices for the car(s) fall in 12,000 which means that all prices coincide."
   ]
  },
  {
   "cell_type": "code",
   "execution_count": 31,
   "metadata": {},
   "outputs": [
    {
     "data": {
      "text/html": [
       "<div>\n",
       "<style scoped>\n",
       "    .dataframe tbody tr th:only-of-type {\n",
       "        vertical-align: middle;\n",
       "    }\n",
       "\n",
       "    .dataframe tbody tr th {\n",
       "        vertical-align: top;\n",
       "    }\n",
       "\n",
       "    .dataframe thead th {\n",
       "        text-align: right;\n",
       "    }\n",
       "</style>\n",
       "<table border=\"1\" class=\"dataframe\">\n",
       "  <thead>\n",
       "    <tr style=\"text-align: right;\">\n",
       "      <th></th>\n",
       "      <th>model</th>\n",
       "      <th>days_listed</th>\n",
       "      <th>transmission</th>\n",
       "      <th>paint_color</th>\n",
       "      <th>price</th>\n",
       "    </tr>\n",
       "  </thead>\n",
       "  <tbody>\n",
       "    <tr>\n",
       "      <th>0</th>\n",
       "      <td>acura tl</td>\n",
       "      <td>140</td>\n",
       "      <td>automatic</td>\n",
       "      <td>grey</td>\n",
       "      <td>4950.00</td>\n",
       "    </tr>\n",
       "    <tr>\n",
       "      <th>1</th>\n",
       "      <td>bmw x5</td>\n",
       "      <td>7677</td>\n",
       "      <td>automatic</td>\n",
       "      <td>black</td>\n",
       "      <td>11613.08</td>\n",
       "    </tr>\n",
       "    <tr>\n",
       "      <th>2</th>\n",
       "      <td>buick enclave</td>\n",
       "      <td>8139</td>\n",
       "      <td>automatic</td>\n",
       "      <td>brown</td>\n",
       "      <td>12357.04</td>\n",
       "    </tr>\n",
       "    <tr>\n",
       "      <th>3</th>\n",
       "      <td>cadillac escalade</td>\n",
       "      <td>9300</td>\n",
       "      <td>automatic</td>\n",
       "      <td>black</td>\n",
       "      <td>13132.47</td>\n",
       "    </tr>\n",
       "    <tr>\n",
       "      <th>5</th>\n",
       "      <td>chevrolet equinox</td>\n",
       "      <td>14996</td>\n",
       "      <td>automatic</td>\n",
       "      <td>grey</td>\n",
       "      <td>10561.35</td>\n",
       "    </tr>\n",
       "  </tbody>\n",
       "</table>\n",
       "</div>"
      ],
      "text/plain": [
       "               model  days_listed transmission paint_color     price\n",
       "0           acura tl          140    automatic        grey   4950.00\n",
       "1             bmw x5         7677    automatic       black  11613.08\n",
       "2      buick enclave         8139    automatic       brown  12357.04\n",
       "3  cadillac escalade         9300    automatic       black  13132.47\n",
       "5  chevrolet equinox        14996    automatic        grey  10561.35"
      ]
     },
     "execution_count": 31,
     "metadata": {},
     "output_type": "execute_result"
    }
   ],
   "source": [
    "#Trucks\n",
    "truck_models = (\n",
    "            good_ads\n",
    "            .query('type == \"SUV\"')\n",
    "            .groupby('model', as_index=False)\n",
    "            .agg({'days_listed': 'sum', 'transmission': 'first', 'paint_color': 'first', 'price': 'mean'})\n",
    "            )\n",
    "truck_models = truck_models.query('days_listed >= 50')\n",
    "truck_models['price'] = truck_models['price'].round(2)\n",
    "truck_models.head()"
   ]
  },
  {
   "cell_type": "markdown",
   "metadata": {},
   "source": [
    "#### Boxplot of 'Transmission' against 'Price' of Trucks"
   ]
  },
  {
   "cell_type": "code",
   "execution_count": 32,
   "metadata": {
    "scrolled": true
   },
   "outputs": [
    {
     "data": {
      "image/png": "[encoded data removed]",
      "text/plain": [
       "<Figure size 432x288 with 1 Axes>"
      ]
     },
     "metadata": {},
     "output_type": "display_data"
    }
   ],
   "source": [
    "sns.set_style(\"whitegrid\")\n",
    "(\n",
    "    sns\n",
    "    .boxplot(x='transmission', y='price', data=truck_models)\n",
    "    .set_title('Truck Vehicle Price with respect to Transmission')\n",
    ")\n",
    "plt.show()"
   ]
  },
  {
   "cell_type": "markdown",
   "metadata": {},
   "source": [
    "**Conclusion**\n",
    "\n",
    "Above is the boxplots of 'transmission' against 'price' of trucks.\n",
    "\n",
    "**Automatic** trucks have some outliers which points to the fact that there are trucks that are priced way below other prices. From the boxplot, the distribution is skewwed to the right. The trucks in this category are priced from 4,700 to 35,000. The first 25% of automatic trucks are priced between 4,700 and 9,200, the next 25% are between 9,200 and 11,800, the next between 11,800 and 14,000, and the last 25% has the highest dispersion between 14,000 and 35000. The upper whisker starts from 16,000.\n",
    "\n",
    "**Manual** trucks boxplot shows that all manual trucks are within a close price range (5,000 to 9,800) which is less than the highest price of automatic trucks."
   ]
  },
  {
   "cell_type": "markdown",
   "metadata": {},
   "source": [
    "#### Boxplot of `Paint_color` against `Price` of Trucks"
   ]
  },
  {
   "cell_type": "code",
   "execution_count": 33,
   "metadata": {},
   "outputs": [
    {
     "data": {
      "image/png": "[encoded data removed]",
      "text/plain": [
       "<Figure size 432x288 with 1 Axes>"
      ]
     },
     "metadata": {},
     "output_type": "display_data"
    }
   ],
   "source": [
    "sns.set_style(\"whitegrid\")\n",
    "(\n",
    "    sns\n",
    "    .boxplot(x='paint_color', y='price', data=truck_models)\n",
    "    .set_title('Truck Vehicle Price with respect to Paint_color')\n",
    ")\n",
    "plt.show()"
   ]
  },
  {
   "cell_type": "markdown",
   "metadata": {},
   "source": [
    "##### Conclusion\n",
    "\n",
    "Above is the boxplots of 'paint_color' against 'price' of trucks.\n",
    "\n",
    "**Green** trucks have their prices on the same price levels of 12,200. \n",
    "\n",
    "**Brown** trucks are normally distributed within the range-prices of 8,500 and 13,000 unlike other trucks.\n",
    "\n",
    "**White** trucks have the widest price range of 6,000 to 14,000 and those prices are more in the first 50% of the range than in the other 50%. The boxplot is positively skewwed and has upper outliers. **Blue** trucks also have lower outliers.\n",
    "\n",
    "**Grey**, **Silver**, and **Red** trucks also have a wide range of price but not as wide as white trucks. "
   ]
  }
 ],
 "metadata": {
  "kernelspec": {
   "display_name": "Python 3",
   "language": "python",
   "name": "python3"
  },
  "language_info": {
   "codemirror_mode": {
    "name": "ipython",
    "version": 3
   },
   "file_extension": ".py",
   "mimetype": "text/x-python",
   "name": "python",
   "nbconvert_exporter": "python",
   "pygments_lexer": "ipython3",
   "version": "3.8.8"
  },
  "toc": {
   "base_numbering": 1,
   "nav_menu": {},
   "number_sections": false,
   "sideBar": true,
   "skip_h1_title": false,
   "title_cell": "Table of Contents",
   "title_sidebar": "Contents",
   "toc_cell": false,
   "toc_position": {
    "height": "calc(100% - 180px)",
    "left": "10px",
    "top": "150px",
    "width": "205.391px"
   },
   "toc_section_display": true,
   "toc_window_display": true
  }
 },
 "nbformat": 4,
 "nbformat_minor": 2
}
